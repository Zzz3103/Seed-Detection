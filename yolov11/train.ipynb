{
 "cells": [
  {
   "cell_type": "code",
   "execution_count": 1,
   "id": "9cf4764e",
   "metadata": {},
   "outputs": [],
   "source": [
    "from ultralytics import YOLO\n",
    "import ultralytics\n",
    "import glob\n",
    "from IPython.display import Image, display\n",
    "import random\n",
    "import torch"
   ]
  },
  {
   "cell_type": "code",
   "execution_count": 2,
   "id": "7a7e3653",
   "metadata": {},
   "outputs": [
    {
     "name": "stdout",
     "output_type": "stream",
     "text": [
      "2.4.1+cu121\n",
      "8.3.105\n"
     ]
    }
   ],
   "source": [
    "print(torch.__version__)\n",
    "print(ultralytics.__version__)"
   ]
  },
  {
   "cell_type": "code",
   "execution_count": 3,
   "id": "4e47d077",
   "metadata": {},
   "outputs": [],
   "source": [
    "from pathlib import Path\n",
    "from PIL import Image\n",
    "\n",
    "images_path = Path(\"datasets/images\")  # đổi lại path nếu cần\n",
    "for img_path in images_path.glob(\"**/*.JPG\"):\n",
    "    try:\n",
    "        with Image.open(img_path) as img:\n",
    "            img.verify()  # chỉ kiểm tra chứ không load\n",
    "    except Exception as e:\n",
    "        print(f\"❌ Error in {img_path}: {e}\")\n"
   ]
  },
  {
   "cell_type": "code",
   "execution_count": 4,
   "id": "f0e91499",
   "metadata": {},
   "outputs": [
    {
     "name": "stdout",
     "output_type": "stream",
     "text": [
      "✅ Tất cả file label đều đúng định dạng YOLO.\n"
     ]
    }
   ],
   "source": [
    "from pathlib import Path\n",
    "\n",
    "def is_valid_label_line(line):\n",
    "    parts = line.strip().split()\n",
    "    if len(parts) != 5:\n",
    "        return False\n",
    "    try:\n",
    "        class_id = int(parts[0])\n",
    "        if class_id < 0:\n",
    "            return False\n",
    "        values = list(map(float, parts[1:]))\n",
    "        return all(0.0 <= val <= 1.0 for val in values)\n",
    "    except:\n",
    "        return False\n",
    "\n",
    "labels_path = Path(\"datasets/labels\")  # đổi path nếu cần\n",
    "error_files = []\n",
    "\n",
    "for label_file in labels_path.glob(\"**/*.txt\"):\n",
    "    with open(label_file, \"r\") as f:\n",
    "        lines = f.readlines()\n",
    "        for i, line in enumerate(lines):\n",
    "            if not is_valid_label_line(line):\n",
    "                error_files.append((label_file, i+1, line.strip()))\n",
    "\n",
    "if error_files:\n",
    "    print(\"❌ Lỗi định dạng trong các file sau:\")\n",
    "    for file, line_num, content in error_files:\n",
    "        print(f\"File: {file}, dòng {line_num}: {content}\")\n",
    "else:\n",
    "    print(\"✅ Tất cả file label đều đúng định dạng YOLO.\")"
   ]
  },
  {
   "cell_type": "code",
   "execution_count": null,
   "id": "2db6b957",
   "metadata": {},
   "outputs": [],
   "source": [
    "model = YOLO(\"yolo11s.pt\")  \n",
    "\n",
    "# Bắt đầu huấn luyện\n",
    "model.train(\n",
    "    data=\"./data.yaml\",    # đường dẫn đến file .yaml\n",
    "    epochs=30,           # số epoch\n",
    "    imgsz=640,           # kích thước ảnh\n",
    "    batch=16,\n",
    "    device='cpu'   \n",
    ")"
   ]
  },
  {
   "cell_type": "code",
   "execution_count": null,
   "id": "ba9894f4",
   "metadata": {},
   "outputs": [],
   "source": [
    "model = YOLO(\"runs/detect/train450/weights/best.pt\")\n",
    "# model.model.names = {\n",
    "#     0: 'g',\n",
    "#     1: 'ng'\n",
    "# }"
   ]
  },
  {
   "cell_type": "code",
   "execution_count": 4,
   "id": "ec4eb100",
   "metadata": {},
   "outputs": [],
   "source": [
    "test_img_paths = []\n",
    "for _ in range(10):\n",
    "    rand_num = random.randint(200, 899)\n",
    "    rand_num = str(rand_num).zfill(4)\n",
    "    test_img_paths.append(f\"D:/object detection nn/rice_seed_data/IMG_{rand_num}.JPG\")"
   ]
  },
  {
   "cell_type": "code",
   "execution_count": 5,
   "id": "1875aaad",
   "metadata": {},
   "outputs": [
    {
     "data": {
      "text/plain": [
       "['D:/object detection nn/rice_seed_data/IMG_0646.JPG',\n",
       " 'D:/object detection nn/rice_seed_data/IMG_0654.JPG',\n",
       " 'D:/object detection nn/rice_seed_data/IMG_0887.JPG',\n",
       " 'D:/object detection nn/rice_seed_data/IMG_0245.JPG',\n",
       " 'D:/object detection nn/rice_seed_data/IMG_0725.JPG',\n",
       " 'D:/object detection nn/rice_seed_data/IMG_0669.JPG',\n",
       " 'D:/object detection nn/rice_seed_data/IMG_0443.JPG',\n",
       " 'D:/object detection nn/rice_seed_data/IMG_0300.JPG',\n",
       " 'D:/object detection nn/rice_seed_data/IMG_0494.JPG',\n",
       " 'D:/object detection nn/rice_seed_data/IMG_0810.JPG']"
      ]
     },
     "execution_count": 5,
     "metadata": {},
     "output_type": "execute_result"
    }
   ],
   "source": [
    "test_img_paths"
   ]
  },
  {
   "cell_type": "code",
   "execution_count": 6,
   "id": "4c69f597",
   "metadata": {},
   "outputs": [
    {
     "name": "stdout",
     "output_type": "stream",
     "text": [
      "\n",
      "0: 448x640 10 gs, 29 ns, 9.4ms\n",
      "1: 448x640 24 gs, 5 ns, 9.4ms\n",
      "2: 448x640 36 gs, 22 ns, 9.4ms\n",
      "3: 448x640 30 gs, 11 ns, 9.4ms\n",
      "4: 448x640 19 gs, 18 ns, 9.4ms\n",
      "5: 448x640 20 gs, 9 ns, 9.4ms\n",
      "6: 448x640 34 gs, 9 ns, 9.4ms\n",
      "7: 448x640 22 gs, 37 ns, 9.4ms\n",
      "8: 448x640 26 gs, 4 ns, 9.4ms\n",
      "9: 448x640 3 gs, 32 ns, 9.4ms\n",
      "Speed: 2.5ms preprocess, 9.4ms inference, 19.5ms postprocess per image at shape (1, 3, 448, 640)\n",
      "Results saved to \u001b[1mruns\\detect\\predict\u001b[0m\n"
     ]
    }
   ],
   "source": [
    "results = model(test_img_paths, save=True, conf=0.25)"
   ]
  },
  {
   "cell_type": "code",
   "execution_count": null,
   "id": "e3d0c495",
   "metadata": {},
   "outputs": [],
   "source": []
  }
 ],
 "metadata": {
  "kernelspec": {
   "display_name": "Python 3",
   "language": "python",
   "name": "python3"
  },
  "language_info": {
   "codemirror_mode": {
    "name": "ipython",
    "version": 3
   },
   "file_extension": ".py",
   "mimetype": "text/x-python",
   "name": "python",
   "nbconvert_exporter": "python",
   "pygments_lexer": "ipython3",
   "version": "3.11.4"
  }
 },
 "nbformat": 4,
 "nbformat_minor": 5
}
